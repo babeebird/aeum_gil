{
 "cells": [
  {
   "cell_type": "markdown",
   "id": "anticipated-looking",
   "metadata": {},
   "source": [
    "- 데이터 전처리, 종결어미 전환을 거쳤습니다.\n",
    "- 총 266616개의 데이터입니다.\n",
    "    - 훈련 데이터(train) : (184764, 3)\n",
    "    - 검증 데이터(validation) : (79185, 3)\n",
    "    - 테스트 데이터(test) : (2667, 3)"
   ]
  },
  {
   "cell_type": "code",
   "execution_count": 1,
   "id": "instant-liverpool",
   "metadata": {},
   "outputs": [
    {
     "name": "stdout",
     "output_type": "stream",
     "text": [
      "CPU times: user 12.3 s, sys: 1.36 s, total: 13.6 s\n",
      "Wall time: 13.2 s\n"
     ]
    }
   ],
   "source": [
    "%%time\n",
    "\n",
    "import os\n",
    "import csv\n",
    "import pandas as pd\n",
    "\n",
    "file_name = os.getenv('HOME')+'/aiffel/aeumgil/AIhub/data/aihub_convert.csv'\n",
    "df = pd.read_csv(file_name)"
   ]
  },
  {
   "cell_type": "code",
   "execution_count": 2,
   "id": "gross-patrick",
   "metadata": {},
   "outputs": [
    {
     "data": {
      "text/html": [
       "<div>\n",
       "<style scoped>\n",
       "    .dataframe tbody tr th:only-of-type {\n",
       "        vertical-align: middle;\n",
       "    }\n",
       "\n",
       "    .dataframe tbody tr th {\n",
       "        vertical-align: top;\n",
       "    }\n",
       "\n",
       "    .dataframe thead th {\n",
       "        text-align: right;\n",
       "    }\n",
       "</style>\n",
       "<table border=\"1\" class=\"dataframe\">\n",
       "  <thead>\n",
       "    <tr style=\"text-align: right;\">\n",
       "      <th></th>\n",
       "      <th>title</th>\n",
       "      <th>original_text</th>\n",
       "      <th>converted_ext</th>\n",
       "      <th>converted_abs</th>\n",
       "      <th>size</th>\n",
       "      <th>char_count</th>\n",
       "      <th>sum_char_cnt</th>\n",
       "      <th>ext_char_cnt</th>\n",
       "      <th>readable</th>\n",
       "      <th>accurate</th>\n",
       "      <th>informative</th>\n",
       "      <th>trustworthy</th>\n",
       "      <th>media_sub_type</th>\n",
       "    </tr>\n",
       "  </thead>\n",
       "  <tbody>\n",
       "    <tr>\n",
       "      <th>0</th>\n",
       "      <td>논 타작물 재배, 2월 말까지 신청하세요</td>\n",
       "      <td>전라남도가 쌀 과잉문제를 근본적으로 해결하기 위해 올해부터 시행하는 쌀 생산조정제를...</td>\n",
       "      <td>전라남도가 쌀 과잉문제를 근본적으로 해결하기 위해 올해부터 시행하는 쌀 생산조정제를...</td>\n",
       "      <td>전라남도가 쌀 과잉문제를 근본적으로 해결하기 위해 올해부터 벼를 심었던 논에 벼 대...</td>\n",
       "      <td>small</td>\n",
       "      <td>927</td>\n",
       "      <td>155</td>\n",
       "      <td>190</td>\n",
       "      <td>4</td>\n",
       "      <td>3</td>\n",
       "      <td>3</td>\n",
       "      <td>3</td>\n",
       "      <td>지역지</td>\n",
       "    </tr>\n",
       "    <tr>\n",
       "      <th>1</th>\n",
       "      <td>여수시, 컬러빌리지 마무리...‘색채와 빛’도시 완성</td>\n",
       "      <td>여수시는 원도심 일대에서 추진된 컬러빌리지 사업을 지난해 말 마무리하며 색채와 빛의...</td>\n",
       "      <td>여수시는 원도심 일대에서 추진된 컬러빌리지 사업을 지난해 말 마무리하며 색채와 빛의...</td>\n",
       "      <td>여수시는 컬러빌리지 사업에 8억원을 투입하여 색채와 빛 도시를 완성하여 고소천사벽화...</td>\n",
       "      <td>small</td>\n",
       "      <td>764</td>\n",
       "      <td>118</td>\n",
       "      <td>182</td>\n",
       "      <td>4</td>\n",
       "      <td>4</td>\n",
       "      <td>5</td>\n",
       "      <td>4</td>\n",
       "      <td>지역지</td>\n",
       "    </tr>\n",
       "    <tr>\n",
       "      <th>2</th>\n",
       "      <td>“새해 정기 받고 올해는 반드시 일내자!”</td>\n",
       "      <td>전남드래곤즈(사장 신승재)는 지난 4일 구봉산 해맞이 행사를 통해 새해 각오를 다졌...</td>\n",
       "      <td>임직원과 선수단 모두는 이날 구봉산 정상에 올라 일출을 보며 2018년 구단 목표를...</td>\n",
       "      <td>전남드래곤즈 임직원과 선수단이 4일 구봉산 정상에 올라 일출을 보며 2018년 구단...</td>\n",
       "      <td>medium</td>\n",
       "      <td>1066</td>\n",
       "      <td>68</td>\n",
       "      <td>216</td>\n",
       "      <td>4</td>\n",
       "      <td>4</td>\n",
       "      <td>4</td>\n",
       "      <td>4</td>\n",
       "      <td>지역지</td>\n",
       "    </tr>\n",
       "    <tr>\n",
       "      <th>3</th>\n",
       "      <td>농업인 역량 강화, 새해 실용교육 실시</td>\n",
       "      <td>광양시는 오는 11일부터 24일까지 농업인교육관과 읍면동 회의실에서 농업인 1050...</td>\n",
       "      <td>광양시는 오는 11일부터 24일까지 농업인교육관과 읍면동 회의실에서 농업인 1050...</td>\n",
       "      <td>광양시는 농업인들의 경쟁력을 높이고, 소득안정을 위해 매실·감·참다래 등 지역특화작...</td>\n",
       "      <td>small</td>\n",
       "      <td>746</td>\n",
       "      <td>68</td>\n",
       "      <td>211</td>\n",
       "      <td>4</td>\n",
       "      <td>4</td>\n",
       "      <td>5</td>\n",
       "      <td>4</td>\n",
       "      <td>지역지</td>\n",
       "    </tr>\n",
       "    <tr>\n",
       "      <th>4</th>\n",
       "      <td>타이완 크루즈관광객 4천여명‘전남’온다</td>\n",
       "      <td>타이완의 크루즈관광객 4000여명이 올해 두 차례에 걸쳐 여수에 입항한다. 전라남도...</td>\n",
       "      <td>전라남도는 올해 4월과 6월 홍콩 크루즈선사 스타크루즈의 5만톤급 아쿠아리우스 호가...</td>\n",
       "      <td>올해 4월과 6월 두 차례에 걸쳐 타이완의 크루즈 관광객 4000여명이 여수에 입항...</td>\n",
       "      <td>small</td>\n",
       "      <td>978</td>\n",
       "      <td>66</td>\n",
       "      <td>257</td>\n",
       "      <td>4</td>\n",
       "      <td>4</td>\n",
       "      <td>4</td>\n",
       "      <td>4</td>\n",
       "      <td>지역지</td>\n",
       "    </tr>\n",
       "  </tbody>\n",
       "</table>\n",
       "</div>"
      ],
      "text/plain": [
       "                           title  \\\n",
       "0         논 타작물 재배, 2월 말까지 신청하세요   \n",
       "1  여수시, 컬러빌리지 마무리...‘색채와 빛’도시 완성   \n",
       "2        “새해 정기 받고 올해는 반드시 일내자!”   \n",
       "3          농업인 역량 강화, 새해 실용교육 실시   \n",
       "4          타이완 크루즈관광객 4천여명‘전남’온다   \n",
       "\n",
       "                                       original_text  \\\n",
       "0  전라남도가 쌀 과잉문제를 근본적으로 해결하기 위해 올해부터 시행하는 쌀 생산조정제를...   \n",
       "1  여수시는 원도심 일대에서 추진된 컬러빌리지 사업을 지난해 말 마무리하며 색채와 빛의...   \n",
       "2  전남드래곤즈(사장 신승재)는 지난 4일 구봉산 해맞이 행사를 통해 새해 각오를 다졌...   \n",
       "3  광양시는 오는 11일부터 24일까지 농업인교육관과 읍면동 회의실에서 농업인 1050...   \n",
       "4  타이완의 크루즈관광객 4000여명이 올해 두 차례에 걸쳐 여수에 입항한다. 전라남도...   \n",
       "\n",
       "                                       converted_ext  \\\n",
       "0  전라남도가 쌀 과잉문제를 근본적으로 해결하기 위해 올해부터 시행하는 쌀 생산조정제를...   \n",
       "1  여수시는 원도심 일대에서 추진된 컬러빌리지 사업을 지난해 말 마무리하며 색채와 빛의...   \n",
       "2  임직원과 선수단 모두는 이날 구봉산 정상에 올라 일출을 보며 2018년 구단 목표를...   \n",
       "3  광양시는 오는 11일부터 24일까지 농업인교육관과 읍면동 회의실에서 농업인 1050...   \n",
       "4  전라남도는 올해 4월과 6월 홍콩 크루즈선사 스타크루즈의 5만톤급 아쿠아리우스 호가...   \n",
       "\n",
       "                                       converted_abs    size  char_count  \\\n",
       "0  전라남도가 쌀 과잉문제를 근본적으로 해결하기 위해 올해부터 벼를 심었던 논에 벼 대...   small         927   \n",
       "1  여수시는 컬러빌리지 사업에 8억원을 투입하여 색채와 빛 도시를 완성하여 고소천사벽화...   small         764   \n",
       "2  전남드래곤즈 임직원과 선수단이 4일 구봉산 정상에 올라 일출을 보며 2018년 구단...  medium        1066   \n",
       "3  광양시는 농업인들의 경쟁력을 높이고, 소득안정을 위해 매실·감·참다래 등 지역특화작...   small         746   \n",
       "4  올해 4월과 6월 두 차례에 걸쳐 타이완의 크루즈 관광객 4000여명이 여수에 입항...   small         978   \n",
       "\n",
       "   sum_char_cnt  ext_char_cnt  readable  accurate  informative  trustworthy  \\\n",
       "0           155           190         4         3            3            3   \n",
       "1           118           182         4         4            5            4   \n",
       "2            68           216         4         4            4            4   \n",
       "3            68           211         4         4            5            4   \n",
       "4            66           257         4         4            4            4   \n",
       "\n",
       "  media_sub_type  \n",
       "0            지역지  \n",
       "1            지역지  \n",
       "2            지역지  \n",
       "3            지역지  \n",
       "4            지역지  "
      ]
     },
     "execution_count": 2,
     "metadata": {},
     "output_type": "execute_result"
    }
   ],
   "source": [
    "df.head()"
   ]
  },
  {
   "cell_type": "code",
   "execution_count": 3,
   "id": "artistic-reminder",
   "metadata": {},
   "outputs": [
    {
     "data": {
      "text/plain": [
       "Index(['title', 'original', 'ext', 'abs', 'size', 'char_count', 'sum_char_cnt',\n",
       "       'ext_char_cnt', 'readable', 'accurate', 'informative', 'trustworthy',\n",
       "       'media_sub_type'],\n",
       "      dtype='object')"
      ]
     },
     "execution_count": 3,
     "metadata": {},
     "output_type": "execute_result"
    }
   ],
   "source": [
    "df.rename(columns={'original_text':'original','converted_ext':'ext', 'converted_abs':'abs'}, inplace=True)\n",
    "df.columns"
   ]
  },
  {
   "cell_type": "code",
   "execution_count": 4,
   "id": "excellent-arcade",
   "metadata": {},
   "outputs": [],
   "source": [
    "from sklearn.model_selection import train_test_split\n",
    "data = df[['original','abs','ext']]"
   ]
  },
  {
   "cell_type": "code",
   "execution_count": 5,
   "id": "acute-karma",
   "metadata": {},
   "outputs": [
    {
     "data": {
      "text/plain": [
       "(266616, 3)"
      ]
     },
     "execution_count": 5,
     "metadata": {},
     "output_type": "execute_result"
    }
   ],
   "source": [
    "#- 26만 6천여개\n",
    "data.shape"
   ]
  },
  {
   "cell_type": "code",
   "execution_count": 6,
   "id": "acceptable-paris",
   "metadata": {},
   "outputs": [],
   "source": [
    "train, test = train_test_split(data, test_size=0.01)\n",
    "train, val = train_test_split(train, test_size=0.3)"
   ]
  },
  {
   "cell_type": "code",
   "execution_count": 7,
   "id": "quick-weather",
   "metadata": {
    "scrolled": false
   },
   "outputs": [
    {
     "name": "stdout",
     "output_type": "stream",
     "text": [
      "(184764, 3)\n",
      "(79185, 3)\n",
      "(2667, 3)\n"
     ]
    }
   ],
   "source": [
    "print(train.shape)\n",
    "print(val.shape)\n",
    "print(test.shape)"
   ]
  },
  {
   "cell_type": "code",
   "execution_count": 8,
   "id": "still-verification",
   "metadata": {},
   "outputs": [],
   "source": [
    "train.to_csv('train_v2.csv',index=False)\n",
    "val.to_csv('val_v2.csv',index=False)\n",
    "test.to_csv('test_v2.csv',index=False)"
   ]
  }
 ],
 "metadata": {
  "kernelspec": {
   "display_name": "Python 3",
   "language": "python",
   "name": "python3"
  },
  "language_info": {
   "codemirror_mode": {
    "name": "ipython",
    "version": 3
   },
   "file_extension": ".py",
   "mimetype": "text/x-python",
   "name": "python",
   "nbconvert_exporter": "python",
   "pygments_lexer": "ipython3",
   "version": "3.7.9"
  }
 },
 "nbformat": 4,
 "nbformat_minor": 5
}
